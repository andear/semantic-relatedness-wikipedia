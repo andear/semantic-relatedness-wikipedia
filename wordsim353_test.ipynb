{
 "cells": [
  {
   "cell_type": "code",
   "execution_count": 1,
   "metadata": {},
   "outputs": [],
   "source": [
    "import sys\n",
    "from functools import cmp_to_key\n",
    "import numpy as np\n",
    "import numpy.linalg as LA"
   ]
  },
  {
   "cell_type": "code",
   "execution_count": 2,
   "metadata": {},
   "outputs": [],
   "source": [
    "def load_vector(filename):\n",
    "    '''Load the word vector of the filenmae'''\n",
    "    data = {}\n",
    "    with open(filename, \"r\") as f:\n",
    "        for l in f:\n",
    "            words = l.strip().split()\n",
    "            word = words[0]\n",
    "            res = np.array([float(item) for item in words[1:]])\n",
    "            data[word] = res\n",
    "    return data\n",
    "\n",
    "\n",
    "def load_wordsim353(filename):\n",
    "    ''' load the wordsim 353 test\n",
    "    the test format:\n",
    "    worda wordb score'''\n",
    "    words = []\n",
    "    with open(filename) as f:\n",
    "        for l in f:\n",
    "            words.append(l.strip().split())\n",
    "    test_words = [(item[0], item[1]) for item in words]\n",
    "    answer = [float(item[2]) for item in words]\n",
    "    return test_words, answer\n",
    "\n"
   ]
  },
  {
   "cell_type": "code",
   "execution_count": 3,
   "metadata": {},
   "outputs": [],
   "source": [
    "def similarity(word1, word2, word2vector):\n",
    "    '''get the cosine similarity of the word1 and word2'''\n",
    "    if word1 in word2vector:\n",
    "        vector1 = word2vector[word1]\n",
    "    else:\n",
    "        print(\"key do not exist:\" + word1)\n",
    "        return 0\n",
    "\n",
    "    if word2 in word2vector:\n",
    "        vector2 = word2vector[word2]\n",
    "    else:\n",
    "        print(\"key do not exist:\" + word2)\n",
    "        return 0\n",
    "\n",
    "    res = np.dot(vector1, vector2) / (LA.norm(vector1) * LA.norm(vector2))\n",
    "    res = float(res)\n",
    "    return res\n",
    "\n",
    "\n",
    "def get_score(test_words, word2vector):\n",
    "    '''test the word2vector using test_words'''\n",
    "    return [similarity(word1, word2, word2vector) for word1, word2 in test_words]\n",
    "\n",
    "def get_corr(listA, listB):\n",
    "    '''get teh correlation of the listA and List B'''\n",
    "    x_bar = 0.0\n",
    "    y_bar = 0.0\n",
    "    for a, b in zip(listA, listB):\n",
    "        x_bar += a\n",
    "        y_bar += b\n",
    "    x_bar *= (1. / float(len(listA)))\n",
    "    y_bar *= (1. / float(len(listB)))\n",
    "    res1 = 0.0\n",
    "    res2 = 0.0\n",
    "    res3 = 0.0\n",
    "    for x, y in zip(listA, listB):\n",
    "        res1 += ((x - x_bar) * (y - y_bar))\n",
    "        res2 += ((x - x_bar) * (x - x_bar))\n",
    "        res3 += ((y - y_bar) * (y - y_bar))\n",
    "    return res1/np.sqrt(res2 * res3)\n"
   ]
  },
  {
   "cell_type": "code",
   "execution_count": 4,
   "metadata": {},
   "outputs": [],
   "source": [
    "def get_rank(score):\n",
    "    '''Given a list and give out the rank result of the list'''\n",
    "    tmp = [(i, item) for i, item in enumerate(score)]\n",
    "    tmp = sorted(tmp, key=cmp_to_key(lambda x, y: (x[1] > y[1]) - (x[1] < y[1])))\n",
    "    print(type(tmp))\n",
    "    print(len(tmp))\n",
    "\n",
    "    res = [0 for i in range(len(tmp))]\n",
    "    for i, (pos, score) in enumerate(tmp):\n",
    "        res[pos] = i\n",
    "    return res\n"
   ]
  },
  {
   "cell_type": "code",
   "execution_count": 5,
   "metadata": {},
   "outputs": [],
   "source": [
    "def test_wordsim353(vector_filename, test_filename):\n",
    "    ''' test the result of the vector_filename and the test_filename'''\n",
    "    word2vector = load_vector(vector_filename)\n",
    "    test_words, answer = load_wordsim353(test_filename)\n",
    "    my_answer = get_score(test_words, word2vector)\n",
    "\n",
    "    answer_rank = get_rank(answer)\n",
    "    my_rank = get_rank(my_answer)\n",
    "    return get_corr(my_rank, answer_rank)"
   ]
  },
  {
   "cell_type": "code",
   "execution_count": 8,
   "metadata": {},
   "outputs": [],
   "source": [
    "vector_filename1 = \"./glove.6B/glove.6B.50d.txt\"\n",
    "vector_filename2 = \"./glove.6B/glove.6B.100d.txt\"\n",
    "vector_filename3 = \"./glove.6B/glove.6B.200d.txt\"\n",
    "vector_filename4 = \"./glove.6B/glove.6B.300d.txt\"\n",
    "\n",
    "test_filename = \"./wordsim353.txt\""
   ]
  },
  {
   "cell_type": "code",
   "execution_count": 9,
   "metadata": {},
   "outputs": [
    {
     "name": "stdout",
     "output_type": "stream",
     "text": [
      "key do not exist:CD\n",
      "key do not exist:Jerusalem\n",
      "key do not exist:Jerusalem\n",
      "key do not exist:Maradona\n",
      "key do not exist:Arafat\n",
      "key do not exist:Arafat\n",
      "key do not exist:Arafat\n",
      "key do not exist:Freud\n",
      "key do not exist:FBI\n",
      "key do not exist:FBI\n",
      "key do not exist:Mars\n",
      "key do not exist:Mars\n",
      "key do not exist:Wednesday\n",
      "key do not exist:Japanese\n",
      "key do not exist:Harvard\n",
      "key do not exist:OPEC\n",
      "key do not exist:OPEC\n",
      "key do not exist:Mexico\n",
      "<class 'list'>\n",
      "353\n",
      "<class 'list'>\n",
      "353\n",
      "file1 done...\n",
      "\n",
      "The correlation coefficient is:\n",
      "0.41870637764789587\n"
     ]
    }
   ],
   "source": [
    "corr1 = test_wordsim353(vector_filename1, test_filename)\n",
    "print(\"file1 done...\\n\")\n",
    "print(\"The correlation coefficient is:\")\n",
    "print(corr1)"
   ]
  },
  {
   "cell_type": "code",
   "execution_count": 13,
   "metadata": {},
   "outputs": [
    {
     "name": "stdout",
     "output_type": "stream",
     "text": [
      "key do not exist:CD\n",
      "key do not exist:Jerusalem\n",
      "key do not exist:Jerusalem\n",
      "key do not exist:Maradona\n",
      "key do not exist:Arafat\n",
      "key do not exist:Arafat\n",
      "key do not exist:Arafat\n",
      "key do not exist:Freud\n",
      "key do not exist:FBI\n",
      "key do not exist:FBI\n",
      "key do not exist:Mars\n",
      "key do not exist:Mars\n",
      "key do not exist:Wednesday\n",
      "key do not exist:Japanese\n",
      "key do not exist:Harvard\n",
      "key do not exist:OPEC\n",
      "key do not exist:OPEC\n",
      "key do not exist:Mexico\n",
      "<class 'list'>\n",
      "353\n",
      "<class 'list'>\n",
      "353\n",
      "file2 done...\n",
      "\n",
      "The correlation coefficient is:\n",
      "0.4469163171058547\n",
      "\n",
      "\n",
      "\n"
     ]
    }
   ],
   "source": [
    "corr2 = test_wordsim353(vector_filename2, test_filename)\n",
    "print(\"file2 done...\\n\")\n",
    "print(\"The correlation coefficient is:\")\n",
    "print(corr2)\n",
    "print(\"\\n\\n\")"
   ]
  },
  {
   "cell_type": "code",
   "execution_count": 14,
   "metadata": {},
   "outputs": [
    {
     "name": "stdout",
     "output_type": "stream",
     "text": [
      "key do not exist:CD\n",
      "key do not exist:Jerusalem\n",
      "key do not exist:Jerusalem\n",
      "key do not exist:Maradona\n",
      "key do not exist:Arafat\n",
      "key do not exist:Arafat\n",
      "key do not exist:Arafat\n",
      "key do not exist:Freud\n",
      "key do not exist:FBI\n",
      "key do not exist:FBI\n",
      "key do not exist:Mars\n",
      "key do not exist:Mars\n",
      "key do not exist:Wednesday\n",
      "key do not exist:Japanese\n",
      "key do not exist:Harvard\n",
      "key do not exist:OPEC\n",
      "key do not exist:OPEC\n",
      "key do not exist:Mexico\n",
      "<class 'list'>\n",
      "353\n",
      "<class 'list'>\n",
      "353\n",
      "file3 done...\n",
      "\n",
      "The correlation coefficient is:\n",
      "0.4861428783441075\n",
      "\n",
      "\n",
      "\n"
     ]
    }
   ],
   "source": [
    "corr3 = test_wordsim353(vector_filename3, test_filename)\n",
    "print(\"file3 done...\\n\")\n",
    "print(\"The correlation coefficient is:\")\n",
    "print(corr3)\n",
    "print(\"\\n\\n\")"
   ]
  },
  {
   "cell_type": "code",
   "execution_count": 15,
   "metadata": {},
   "outputs": [
    {
     "name": "stdout",
     "output_type": "stream",
     "text": [
      "key do not exist:CD\n",
      "key do not exist:Jerusalem\n",
      "key do not exist:Jerusalem\n",
      "key do not exist:Maradona\n",
      "key do not exist:Arafat\n",
      "key do not exist:Arafat\n",
      "key do not exist:Arafat\n",
      "key do not exist:Freud\n",
      "key do not exist:FBI\n",
      "key do not exist:FBI\n",
      "key do not exist:Mars\n",
      "key do not exist:Mars\n",
      "key do not exist:Wednesday\n",
      "key do not exist:Japanese\n",
      "key do not exist:Harvard\n",
      "key do not exist:OPEC\n",
      "key do not exist:OPEC\n",
      "key do not exist:Mexico\n",
      "<class 'list'>\n",
      "353\n",
      "<class 'list'>\n",
      "353\n",
      "file4 done...\n",
      "\n",
      "The correlation coefficient is:\n",
      "0.5169450603892675\n"
     ]
    }
   ],
   "source": [
    "corr4 = test_wordsim353(vector_filename4, test_filename)\n",
    "print(\"file4 done...\\n\")\n",
    "print(\"The correlation coefficient is:\")\n",
    "print(corr4)"
   ]
  }
 ],
 "metadata": {
  "kernelspec": {
   "display_name": "Python 3",
   "language": "python",
   "name": "python3"
  },
  "language_info": {
   "codemirror_mode": {
    "name": "ipython",
    "version": 3
   },
   "file_extension": ".py",
   "mimetype": "text/x-python",
   "name": "python",
   "nbconvert_exporter": "python",
   "pygments_lexer": "ipython3",
   "version": "3.6.4"
  }
 },
 "nbformat": 4,
 "nbformat_minor": 2
}
