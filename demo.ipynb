{
 "cells": [
  {
   "cell_type": "code",
   "execution_count": 1,
   "metadata": {},
   "outputs": [],
   "source": [
    "import gensim.models\n",
    "from sklearn.manifold import TSNE\n",
    "import matplotlib.pyplot as plt\n",
    "%matplotlib inline\n",
    "import numpy as np\n",
    "import numpy.linalg as LA"
   ]
  },
  {
   "cell_type": "code",
   "execution_count": 2,
   "metadata": {},
   "outputs": [],
   "source": [
    "def load_vector(filename):\n",
    "    '''Load the word vector of the filenmae'''\n",
    "    data = {}\n",
    "    with open(filename, \"r\") as f:\n",
    "        for l in f:\n",
    "            words = l.strip().split()\n",
    "            word = words[0]\n",
    "            res = np.array([float(item) for item in words[1:]])\n",
    "            data[word] = res\n",
    "    return data\n"
   ]
  },
  {
   "cell_type": "code",
   "execution_count": 3,
   "metadata": {},
   "outputs": [],
   "source": [
    "def load_wordsim353(filename):\n",
    "    ''' load the wordsim 353 test\n",
    "    the test format:\n",
    "    worda wordb score'''\n",
    "    words = []\n",
    "    with open(filename) as f:\n",
    "        for l in f:\n",
    "            words.append(l.strip().split())\n",
    "    test_words = [(item[0], item[1]) for item in words]\n",
    "    answer = [float(item[2]) for item in words]\n",
    "    return test_words, answer\n"
   ]
  },
  {
   "cell_type": "code",
   "execution_count": 4,
   "metadata": {},
   "outputs": [],
   "source": [
    "vector_filename = \"./glove.6B/glove.6B.50d.txt\"\n",
    "\n",
    "word2vector = load_vector(vector_filename)"
   ]
  },
  {
   "cell_type": "code",
   "execution_count": 5,
   "metadata": {},
   "outputs": [
    {
     "name": "stdout",
     "output_type": "stream",
     "text": [
      "400000\n"
     ]
    }
   ],
   "source": [
    "print (len(word2vector))"
   ]
  },
  {
   "cell_type": "code",
   "execution_count": 8,
   "metadata": {},
   "outputs": [
    {
     "name": "stdout",
     "output_type": "stream",
     "text": [
      "<class 'dict'>\n"
     ]
    }
   ],
   "source": [
    "print (type(word2vector))"
   ]
  },
  {
   "cell_type": "code",
   "execution_count": 9,
   "metadata": {},
   "outputs": [],
   "source": [
    "test_filename = \"./wordsim353.txt\"\n",
    "\n",
    "test_words, answer = load_wordsim353(test_filename)"
   ]
  },
  {
   "cell_type": "code",
   "execution_count": 15,
   "metadata": {},
   "outputs": [
    {
     "name": "stdout",
     "output_type": "stream",
     "text": [
      "353\n"
     ]
    }
   ],
   "source": [
    "print (len(test_words))"
   ]
  },
  {
   "cell_type": "code",
   "execution_count": 71,
   "metadata": {},
   "outputs": [],
   "source": [
    "def similarity(word1, word2, word2vector):\n",
    "    '''get the cosine similarity of the word1 and word2'''\n",
    "    if word1 in word2vector:\n",
    "        vector1 = word2vector[word1]\n",
    "    else:\n",
    "        print (\"key do not exist:\" + word1)\n",
    "        return 0\n",
    "        \n",
    "    if word2 in word2vector:\n",
    "        vector2 = word2vector[word2]\n",
    "    else:\n",
    "        print (\"key do not exist:\" + word2)\n",
    "        return 0\n",
    "        \n",
    "    res = np.dot(vector1, vector2) / (LA.norm(vector1) * LA.norm(vector2))\n",
    "    res = float(res)\n",
    "    return res"
   ]
  },
  {
   "cell_type": "code",
   "execution_count": 72,
   "metadata": {},
   "outputs": [],
   "source": [
    "def get_score(test_words, word2vector):\n",
    "    '''test the word2vector using test_words'''\n",
    "    return [similarity(word1, word2, word2vector) for word1, word2 in test_words]"
   ]
  },
  {
   "cell_type": "code",
   "execution_count": 73,
   "metadata": {},
   "outputs": [
    {
     "name": "stdout",
     "output_type": "stream",
     "text": [
      "key do not exist:CD\n",
      "key do not exist:Jerusalem\n",
      "key do not exist:Jerusalem\n",
      "key do not exist:Maradona\n",
      "key do not exist:Arafat\n",
      "key do not exist:Arafat\n",
      "key do not exist:Arafat\n",
      "key do not exist:Freud\n",
      "key do not exist:FBI\n",
      "key do not exist:FBI\n",
      "key do not exist:Mars\n",
      "key do not exist:Mars\n",
      "key do not exist:Wednesday\n",
      "key do not exist:Japanese\n",
      "key do not exist:Harvard\n",
      "key do not exist:OPEC\n",
      "key do not exist:OPEC\n",
      "key do not exist:Mexico\n"
     ]
    }
   ],
   "source": [
    "my_answer = get_score(test_words, word2vector)"
   ]
  },
  {
   "cell_type": "code",
   "execution_count": 60,
   "metadata": {},
   "outputs": [],
   "source": [
    "from functools import cmp_to_key\n",
    "\n",
    "def get_rank(score):\n",
    "    '''Given a list and give out the rank result of the list'''\n",
    "    tmp = [(i, item) for i, item in enumerate(score)]\n",
    "    # tmp = sorted(tmp, cmp=lambda x, y: -cmp_to_key(x[1], y[1]))\n",
    "    tmp = sorted(tmp, key=cmp_to_key(lambda x, y: (x[1] > y[1]) - (x[1] < y[1])))\n",
    "#     tmp = sorted(tmp, key=cmp_to_key(lambda x, y: x[1] > y[1]))\n",
    "    print(type(tmp))\n",
    "    print(len(tmp))\n",
    "\n",
    "    res = [0 for i in range(len(tmp))]\n",
    "    for i, (pos, score) in enumerate(tmp):\n",
    "        res[pos] = i\n",
    "    return res"
   ]
  },
  {
   "cell_type": "code",
   "execution_count": 61,
   "metadata": {},
   "outputs": [
    {
     "name": "stdout",
     "output_type": "stream",
     "text": [
      "<class 'list'>\n",
      "353\n"
     ]
    }
   ],
   "source": [
    "answer_rank = get_rank(answer)"
   ]
  },
  {
   "cell_type": "code",
   "execution_count": 62,
   "metadata": {},
   "outputs": [
    {
     "name": "stdout",
     "output_type": "stream",
     "text": [
      "<class 'list'>\n",
      "353\n"
     ]
    }
   ],
   "source": [
    "print (type(answer_rank))\n",
    "print (len(answer_rank))"
   ]
  },
  {
   "cell_type": "code",
   "execution_count": 63,
   "metadata": {},
   "outputs": [
    {
     "name": "stdout",
     "output_type": "stream",
     "text": [
      "[209, 243, 352, 254, 271, 267, 139, 175, 259, 210, 250, 215, 163, 148, 225, 197, 212, 97, 140, 231, 301, 13, 11, 6, 17, 201, 70, 7, 255, 305, 280, 347, 1, 0, 329, 149, 202, 324, 274, 14, 351, 331, 343, 213, 198, 264, 206, 275, 32, 320, 245, 164, 207, 290, 306, 244, 105, 128, 325, 307, 49, 12, 153, 219, 286, 37, 339, 340, 349, 336, 346, 337, 342, 350, 334, 261, 233, 246, 187, 174, 38, 90, 141, 109, 23, 89, 87, 20, 50, 8, 51, 9, 2, 24, 3, 4, 321, 345, 344, 312, 266, 241, 326, 281, 220, 136, 55, 294, 295, 232, 216, 226, 103, 131, 143, 302, 227, 217, 251, 195, 184, 311, 276, 238, 204, 130, 258, 323, 299, 303, 297, 304, 291, 292, 142, 73, 41, 200, 33, 16, 160, 196, 218, 31, 43, 65, 25, 239, 110, 21, 145, 252, 240, 18, 114, 115, 211, 161, 223, 314, 96, 44, 132, 310, 262, 95, 178, 193, 29, 26, 332, 91, 124, 66, 47, 308, 176, 168, 191, 78, 34, 48, 133, 268, 52, 10, 56, 199, 100, 67, 84, 194, 85, 144, 150, 265, 40, 228, 127, 188, 289, 108, 111, 117, 229, 60, 28, 146, 247, 309, 98, 118, 113, 203, 287, 94, 101, 92, 54, 134, 68, 45, 120, 112, 185, 83, 102, 30, 106, 300, 121, 298, 151, 156, 125, 19, 341, 157, 205, 296, 104, 74, 116, 27, 186, 338, 221, 107, 35, 182, 283, 15, 86, 75, 42, 272, 190, 322, 260, 330, 179, 58, 158, 76, 273, 282, 348, 248, 162, 327, 315, 234, 147, 189, 59, 63, 235, 288, 154, 230, 277, 256, 165, 224, 62, 257, 317, 333, 284, 137, 169, 180, 81, 93, 155, 270, 319, 249, 39, 79, 236, 135, 263, 316, 335, 170, 313, 119, 328, 293, 222, 152, 82, 171, 279, 166, 46, 22, 71, 57, 69, 253, 183, 126, 172, 36, 5, 53, 99, 208, 122, 242, 138, 80, 61, 64, 129, 285, 77, 123, 214, 269, 237, 88, 192, 167, 278, 177, 159, 318, 173, 181, 72]\n"
     ]
    }
   ],
   "source": [
    "print (answer_rank)"
   ]
  },
  {
   "cell_type": "code",
   "execution_count": 76,
   "metadata": {},
   "outputs": [
    {
     "name": "stdout",
     "output_type": "stream",
     "text": [
      "<class 'list'>\n",
      "353\n"
     ]
    }
   ],
   "source": [
    "my_rank = get_rank(my_answer)"
   ]
  },
  {
   "cell_type": "code",
   "execution_count": 77,
   "metadata": {},
   "outputs": [
    {
     "name": "stdout",
     "output_type": "stream",
     "text": [
      "[239, 237, 352, 263, 220, 335, 265, 322, 262, 341, 320, 272, 339, 295, 332, 223, 268, 116, 238, 311, 346, 185, 5, 43, 47, 90, 58, 99, 233, 247, 225, 349, 1, 29, 327, 53, 170, 6, 7, 75, 33, 8, 348, 343, 229, 119, 9, 10, 11, 267, 284, 96, 144, 286, 48, 351, 72, 87, 260, 297, 126, 84, 128, 318, 317, 120, 288, 312, 336, 122, 329, 0, 301, 338, 264, 275, 49, 134, 178, 186, 2, 52, 105, 24, 180, 4, 145, 77, 118, 124, 242, 93, 51, 31, 46, 23, 230, 350, 194, 278, 261, 147, 248, 209, 68, 199, 175, 113, 62, 38, 79, 141, 27, 56, 89, 334, 155, 59, 158, 115, 159, 12, 171, 165, 337, 188, 259, 153, 197, 253, 183, 212, 298, 88, 182, 76, 41, 246, 44, 40, 82, 85, 28, 34, 3, 26, 25, 104, 69, 54, 63, 92, 152, 106, 228, 127, 208, 205, 13, 14, 217, 15, 16, 330, 102, 154, 266, 174, 55, 17, 342, 191, 108, 184, 67, 319, 250, 314, 18, 95, 97, 107, 177, 169, 202, 35, 137, 241, 274, 138, 234, 296, 214, 333, 211, 279, 179, 129, 73, 103, 161, 215, 81, 37, 323, 276, 39, 45, 94, 19, 70, 206, 227, 156, 304, 257, 167, 307, 143, 20, 142, 32, 135, 150, 168, 255, 245, 64, 196, 243, 218, 66, 101, 117, 203, 149, 249, 164, 287, 235, 285, 236, 36, 190, 224, 331, 232, 86, 61, 160, 231, 100, 340, 172, 173, 282, 139, 313, 302, 21, 244, 123, 271, 109, 269, 316, 42, 292, 176, 344, 198, 226, 222, 254, 321, 133, 80, 299, 290, 256, 325, 270, 303, 221, 281, 91, 310, 315, 121, 151, 216, 192, 326, 283, 293, 130, 345, 98, 110, 328, 187, 112, 273, 300, 294, 193, 347, 114, 305, 195, 207, 280, 277, 65, 308, 131, 74, 60, 162, 181, 163, 22, 289, 251, 125, 71, 30, 166, 146, 240, 50, 204, 78, 200, 210, 189, 324, 309, 201, 148, 132, 306, 252, 111, 213, 83, 157, 140, 57, 219, 136, 258, 291]\n"
     ]
    }
   ],
   "source": [
    "print (my_rank)"
   ]
  },
  {
   "cell_type": "code",
   "execution_count": 78,
   "metadata": {},
   "outputs": [],
   "source": [
    "def get_corr(listA, listB):\n",
    "    '''get teh correlation of the listA and List B'''\n",
    "    x_bar = 0.0\n",
    "    y_bar = 0.0\n",
    "    for a, b in zip(listA, listB):\n",
    "        x_bar += a\n",
    "        y_bar += b\n",
    "    x_bar *= (1. / float(len(listA)))\n",
    "    y_bar *= (1. / float(len(listB)))\n",
    "    res1 = 0.0\n",
    "    res2 = 0.0\n",
    "    res3 = 0.0\n",
    "    for x, y in zip(listA, listB):\n",
    "        res1 += ((x - x_bar) * (y - y_bar))\n",
    "        res2 += ((x - x_bar) * (x - x_bar))\n",
    "        res3 += ((y - y_bar) * (y - y_bar))\n",
    "    return res1/np.sqrt(res2 * res3)"
   ]
  },
  {
   "cell_type": "code",
   "execution_count": 79,
   "metadata": {},
   "outputs": [],
   "source": [
    "result = get_corr(my_rank, answer_rank)"
   ]
  },
  {
   "cell_type": "code",
   "execution_count": 80,
   "metadata": {},
   "outputs": [
    {
     "name": "stdout",
     "output_type": "stream",
     "text": [
      "0.41870637764789587\n"
     ]
    }
   ],
   "source": [
    "print (result)"
   ]
  },
  {
   "cell_type": "code",
   "execution_count": null,
   "metadata": {},
   "outputs": [],
   "source": []
  },
  {
   "cell_type": "code",
   "execution_count": null,
   "metadata": {},
   "outputs": [],
   "source": []
  },
  {
   "cell_type": "code",
   "execution_count": null,
   "metadata": {},
   "outputs": [],
   "source": []
  },
  {
   "cell_type": "code",
   "execution_count": null,
   "metadata": {},
   "outputs": [],
   "source": []
  },
  {
   "cell_type": "code",
   "execution_count": null,
   "metadata": {},
   "outputs": [],
   "source": []
  },
  {
   "cell_type": "code",
   "execution_count": null,
   "metadata": {},
   "outputs": [],
   "source": []
  }
 ],
 "metadata": {
  "kernelspec": {
   "display_name": "Python 3",
   "language": "python",
   "name": "python3"
  },
  "language_info": {
   "codemirror_mode": {
    "name": "ipython",
    "version": 3
   },
   "file_extension": ".py",
   "mimetype": "text/x-python",
   "name": "python",
   "nbconvert_exporter": "python",
   "pygments_lexer": "ipython3",
   "version": "3.6.4"
  }
 },
 "nbformat": 4,
 "nbformat_minor": 2
}
